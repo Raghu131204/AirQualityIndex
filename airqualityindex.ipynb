{
 "cells": [
  {
   "cell_type": "code",
   "execution_count": 1,
   "id": "bb9bd886-4b1e-44a5-a7d2-7417e1fb0b19",
   "metadata": {},
   "outputs": [],
   "source": [
    "#importing the libraries\n",
    "import numpy as np\n",
    "import matplotlib.pyplot as plt\n",
    "import seaborn as sns\n",
    "import pandas as pd\n",
    "pd.set_option(\"display.max_columns\",None)\n",
    "import warnings\n",
    "warnings.filterwarnings(\"ignore\")"
   ]
  },
  {
   "cell_type": "code",
   "execution_count": 2,
   "id": "d9f3ebe3-a054-45b3-9c9f-4a3b89a39e8a",
   "metadata": {},
   "outputs": [],
   "source": [
    "#reading the csv file\n",
    "data=pd.read_csv(\"airqualitydata.csv\")"
   ]
  },
  {
   "cell_type": "code",
   "execution_count": 3,
   "id": "e8a40980-2e6a-4e79-97df-0fa8faa5ab2e",
   "metadata": {},
   "outputs": [
    {
     "data": {
      "text/html": [
       "<div>\n",
       "<style scoped>\n",
       "    .dataframe tbody tr th:only-of-type {\n",
       "        vertical-align: middle;\n",
       "    }\n",
       "\n",
       "    .dataframe tbody tr th {\n",
       "        vertical-align: top;\n",
       "    }\n",
       "\n",
       "    .dataframe thead th {\n",
       "        text-align: right;\n",
       "    }\n",
       "</style>\n",
       "<table border=\"1\" class=\"dataframe\">\n",
       "  <thead>\n",
       "    <tr style=\"text-align: right;\">\n",
       "      <th></th>\n",
       "      <th>City</th>\n",
       "      <th>Date</th>\n",
       "      <th>PM2.5</th>\n",
       "      <th>PM10</th>\n",
       "      <th>NO</th>\n",
       "      <th>NO2</th>\n",
       "      <th>NOx</th>\n",
       "      <th>NH3</th>\n",
       "      <th>CO</th>\n",
       "      <th>SO2</th>\n",
       "      <th>O3</th>\n",
       "      <th>Benzene</th>\n",
       "      <th>Toluene</th>\n",
       "      <th>Xylene</th>\n",
       "      <th>AQI</th>\n",
       "      <th>AQI_Bucket</th>\n",
       "    </tr>\n",
       "  </thead>\n",
       "  <tbody>\n",
       "    <tr>\n",
       "      <th>1916</th>\n",
       "      <td>Ahmedabad</td>\n",
       "      <td>2020-03-31</td>\n",
       "      <td>29.97</td>\n",
       "      <td>98.96</td>\n",
       "      <td>3.85</td>\n",
       "      <td>22.08</td>\n",
       "      <td>13.64</td>\n",
       "      <td>NaN</td>\n",
       "      <td>3.85</td>\n",
       "      <td>32.01</td>\n",
       "      <td>36.86</td>\n",
       "      <td>7.00</td>\n",
       "      <td>29.53</td>\n",
       "      <td>2.50</td>\n",
       "      <td>145.0</td>\n",
       "      <td>Moderate</td>\n",
       "    </tr>\n",
       "    <tr>\n",
       "      <th>5821</th>\n",
       "      <td>Bengaluru</td>\n",
       "      <td>2019-03-08</td>\n",
       "      <td>69.62</td>\n",
       "      <td>141.49</td>\n",
       "      <td>25.80</td>\n",
       "      <td>46.88</td>\n",
       "      <td>58.06</td>\n",
       "      <td>18.21</td>\n",
       "      <td>1.32</td>\n",
       "      <td>7.02</td>\n",
       "      <td>49.42</td>\n",
       "      <td>2.51</td>\n",
       "      <td>7.46</td>\n",
       "      <td>NaN</td>\n",
       "      <td>167.0</td>\n",
       "      <td>Moderate</td>\n",
       "    </tr>\n",
       "    <tr>\n",
       "      <th>8532</th>\n",
       "      <td>Chennai</td>\n",
       "      <td>2016-11-29</td>\n",
       "      <td>91.15</td>\n",
       "      <td>NaN</td>\n",
       "      <td>5.66</td>\n",
       "      <td>31.00</td>\n",
       "      <td>18.54</td>\n",
       "      <td>NaN</td>\n",
       "      <td>0.02</td>\n",
       "      <td>4.13</td>\n",
       "      <td>29.57</td>\n",
       "      <td>0.26</td>\n",
       "      <td>0.21</td>\n",
       "      <td>NaN</td>\n",
       "      <td>210.0</td>\n",
       "      <td>Poor</td>\n",
       "    </tr>\n",
       "    <tr>\n",
       "      <th>24269</th>\n",
       "      <td>Patna</td>\n",
       "      <td>2016-07-10</td>\n",
       "      <td>39.08</td>\n",
       "      <td>NaN</td>\n",
       "      <td>15.29</td>\n",
       "      <td>13.49</td>\n",
       "      <td>28.78</td>\n",
       "      <td>NaN</td>\n",
       "      <td>1.30</td>\n",
       "      <td>6.30</td>\n",
       "      <td>12.80</td>\n",
       "      <td>0.13</td>\n",
       "      <td>0.59</td>\n",
       "      <td>0.32</td>\n",
       "      <td>137.0</td>\n",
       "      <td>Moderate</td>\n",
       "    </tr>\n",
       "    <tr>\n",
       "      <th>6988</th>\n",
       "      <td>Brajrajnagar</td>\n",
       "      <td>2019-01-07</td>\n",
       "      <td>115.30</td>\n",
       "      <td>175.98</td>\n",
       "      <td>17.55</td>\n",
       "      <td>28.26</td>\n",
       "      <td>40.47</td>\n",
       "      <td>62.08</td>\n",
       "      <td>3.04</td>\n",
       "      <td>15.34</td>\n",
       "      <td>7.30</td>\n",
       "      <td>12.01</td>\n",
       "      <td>NaN</td>\n",
       "      <td>NaN</td>\n",
       "      <td>278.0</td>\n",
       "      <td>Poor</td>\n",
       "    </tr>\n",
       "  </tbody>\n",
       "</table>\n",
       "</div>"
      ],
      "text/plain": [
       "               City        Date   PM2.5    PM10     NO    NO2    NOx    NH3  \\\n",
       "1916      Ahmedabad  2020-03-31   29.97   98.96   3.85  22.08  13.64    NaN   \n",
       "5821      Bengaluru  2019-03-08   69.62  141.49  25.80  46.88  58.06  18.21   \n",
       "8532        Chennai  2016-11-29   91.15     NaN   5.66  31.00  18.54    NaN   \n",
       "24269         Patna  2016-07-10   39.08     NaN  15.29  13.49  28.78    NaN   \n",
       "6988   Brajrajnagar  2019-01-07  115.30  175.98  17.55  28.26  40.47  62.08   \n",
       "\n",
       "         CO    SO2     O3  Benzene  Toluene  Xylene    AQI AQI_Bucket  \n",
       "1916   3.85  32.01  36.86     7.00    29.53    2.50  145.0   Moderate  \n",
       "5821   1.32   7.02  49.42     2.51     7.46     NaN  167.0   Moderate  \n",
       "8532   0.02   4.13  29.57     0.26     0.21     NaN  210.0       Poor  \n",
       "24269  1.30   6.30  12.80     0.13     0.59    0.32  137.0   Moderate  \n",
       "6988   3.04  15.34   7.30    12.01      NaN     NaN  278.0       Poor  "
      ]
     },
     "execution_count": 3,
     "metadata": {},
     "output_type": "execute_result"
    }
   ],
   "source": [
    "#displaying the random rows \n",
    "data.sample(5)"
   ]
  },
  {
   "cell_type": "code",
   "execution_count": 4,
   "id": "9495eaba-9387-4f2b-a9ed-fa989c5b2291",
   "metadata": {},
   "outputs": [
    {
     "data": {
      "text/plain": [
       "(29531, 16)"
      ]
     },
     "execution_count": 4,
     "metadata": {},
     "output_type": "execute_result"
    }
   ],
   "source": [
    "data.shape"
   ]
  },
  {
   "cell_type": "markdown",
   "id": "5d892cc6-1f2f-462b-a4a1-2b672adccb1a",
   "metadata": {},
   "source": [
    "<h5>The data set contains total 29531 rows and 16 columns.</h1>"
   ]
  },
  {
   "cell_type": "code",
   "execution_count": 5,
   "id": "c9845114-9c02-40d3-8d75-ecbcc137f177",
   "metadata": {},
   "outputs": [
    {
     "name": "stdout",
     "output_type": "stream",
     "text": [
      "Different features or column names\n",
      "City\n",
      "Date\n",
      "PM2.5\n",
      "PM10\n",
      "NO\n",
      "NO2\n",
      "NOx\n",
      "NH3\n",
      "CO\n",
      "SO2\n",
      "O3\n",
      "Benzene\n",
      "Toluene\n",
      "Xylene\n",
      "AQI\n",
      "AQI_Bucket\n"
     ]
    }
   ],
   "source": [
    "#Displaying the all the columns of the data set\n",
    "print(\"Different features or column names\")\n",
    "for i in data.columns:\n",
    "    print(i)"
   ]
  },
  {
   "cell_type": "markdown",
   "id": "47799efb-a6bc-43e7-9e92-6d67e7c164f4",
   "metadata": {},
   "source": [
    "<h4>Description of the Features</h4>\n",
    "<h5>1).AQI</h5>\n",
    "<p>The Air Quality Index (AQI) is a number that measures how clean or polluted the air is. It's used to warn people about the health risks of breathing polluted air.<br>Greater the value of AQI ,higher the pollution rate.</p>\n",
    "<h5>2).PM2.5</h5>\n",
    "<p>PM2.5, or particulate matter 2.5, is a term for tiny particles or droplets in the air that are 2.5 microns or less in width.<br>The largest PM2.5 particles are about 30 times smaller than a human hair.<br>PM2.5 can damage lung cells.</p>\n",
    "<h5>3).PM10</h5>\n",
    "<p>PM10 is a measure of the amount of inhalable particles in the air that are 10 micrometers or less in diameter.<br>PM10 can cause serious health effects, including heart and lung disease.</p>\n",
    "<h5>4).NO</h5>\n",
    "<p>NO(nitrogen oxide) contributes to a higher Air Quality Index (AQI) because it is a pollutant that can react with other chemicals in the air to form ozone and particulate matter.<br>Breathing air with high NO levels can irritate airways, particularly for individuals with respiratory conditions like asthma.</p>\n",
    "<h5>5).NO2</h5>\n",
    "<p>NO2 plays a crucial role in the photochemical process that creates ground-level ozone, another significant air pollutant which further contributes to a poor AQI. <br>NO2 is a major irritant to the airways, causing coughing, wheezing, and breathing difficulties, especially for people with asthma or other respiratory conditions.</p>\n",
    "<h5>6).NOx</h5>\n",
    "<p>NOx reacts with volatile organic compounds (VOCs) in the presence of sunlight to produce ground-level ozone, a key factor in elevated AQ</p>\n",
    "<h5>7).NH3</h5>\n",
    "<p>Ammonia reacts with acidic pollutants in the atmosphere, forming fine particulate matter (PM2.5) which can penetrate deep into the lungs and cause respiratory issues. </p>\n",
    "<h5>8).CO</h5>\n",
    "<p>Inhaling high levels of CO can reduce the amount of oxygen carried by the blood, leading to health issues</p>\n",
    "<h5>9).SO2</h5>\n",
    "<p>SO2, whether of volcanic or anthropogenic origin, is a toxic gas that, when present in high concentrations in the environment, alters air quality and has a significant impact on the respiratory and cardiovascular health of the population, even at great distances from the source of emissions.</p>\n",
    "<h5>10).O3</h5>\n",
    "<p>While ozone in the stratosphere protects us from harmful UV rays, ground-level ozone is considered a pollutant. </p>\n",
    "<h5>11).Benzene</h5>\n",
    "<p>Benzene is a known carcinogen, meaning exposure can increase the risk of cancer, particularly leukemia, even at low levels. </p>\n",
    "<h5>12).Toluene</h5>\n",
    "<p>Exposure to toluene can cause irritation to the eyes, nose, and throat, along with symptoms like headaches, dizziness, and nausea, especially at high concentrations. </p>\n",
    "<h5>13).Xylene</h5>\n",
    "<p>Inhaling xylene can cause eye, nose, and throat irritation, even at relatively low concentrations, impacting health directly and contributing to a lower AQI. </p>"
   ]
  },
  {
   "cell_type": "code",
   "execution_count": 6,
   "id": "5fcf3995-fa80-42fc-a619-62acf5b00ecb",
   "metadata": {},
   "outputs": [
    {
     "data": {
      "text/plain": [
       "Index(['City', 'Date', 'PM2.5', 'PM10', 'NO', 'NO2', 'NOx', 'NH3', 'CO', 'SO2',\n",
       "       'O3', 'Benzene', 'Toluene', 'Xylene', 'AQI', 'AQI_Bucket'],\n",
       "      dtype='object')"
      ]
     },
     "execution_count": 6,
     "metadata": {},
     "output_type": "execute_result"
    }
   ],
   "source": [
    "#columns of the data set are \n",
    "data.columns"
   ]
  },
  {
   "cell_type": "code",
   "execution_count": 7,
   "id": "8a31aebf-c742-43be-bd7a-fbad0b807396",
   "metadata": {},
   "outputs": [
    {
     "data": {
      "text/plain": [
       "Xylene        18109\n",
       "PM10          11140\n",
       "NH3           10328\n",
       "Toluene        8041\n",
       "Benzene        5623\n",
       "AQI            4681\n",
       "AQI_Bucket     4681\n",
       "PM2.5          4598\n",
       "NOx            4185\n",
       "O3             4022\n",
       "SO2            3854\n",
       "NO2            3585\n",
       "NO             3582\n",
       "CO             2059\n",
       "City              0\n",
       "Date              0\n",
       "dtype: int64"
      ]
     },
     "execution_count": 7,
     "metadata": {},
     "output_type": "execute_result"
    }
   ],
   "source": [
    "#checking the total null values\n",
    "data.isnull().sum().sort_values(ascending=False)"
   ]
  },
  {
   "cell_type": "code",
   "execution_count": 8,
   "id": "21038878-5020-400c-8b31-7c60d2a44e63",
   "metadata": {},
   "outputs": [],
   "source": [
    "#percentage of the missing values \n",
    "percentage=(data.isna().mean()*100).sort_values(ascending=False)"
   ]
  },
  {
   "cell_type": "code",
   "execution_count": 9,
   "id": "952fa6ec-4a08-4efb-8637-53b80b8c1e17",
   "metadata": {},
   "outputs": [
    {
     "data": {
      "text/plain": [
       "Xylene        61.322001\n",
       "PM10          37.723071\n",
       "NH3           34.973418\n",
       "Toluene       27.229014\n",
       "Benzene       19.041008\n",
       "AQI           15.851139\n",
       "AQI_Bucket    15.851139\n",
       "PM2.5         15.570079\n",
       "NOx           14.171549\n",
       "O3            13.619586\n",
       "SO2           13.050692\n",
       "NO2           12.139785\n",
       "NO            12.129626\n",
       "CO             6.972334\n",
       "City           0.000000\n",
       "Date           0.000000\n",
       "dtype: float64"
      ]
     },
     "execution_count": 9,
     "metadata": {},
     "output_type": "execute_result"
    }
   ],
   "source": [
    "percentage"
   ]
  },
  {
   "cell_type": "code",
   "execution_count": 10,
   "id": "7b981b73-23cf-4f3b-9320-f47afb5fe5cb",
   "metadata": {},
   "outputs": [
    {
     "data": {
      "text/plain": [
       "<Axes: >"
      ]
     },
     "execution_count": 10,
     "metadata": {},
     "output_type": "execute_result"
    },
    {
     "data": {
      "image/png": "[encoded data removed]",
      "text/plain": [
       "<Figure size 1500x500 with 1 Axes>"
      ]
     },
     "metadata": {},
     "output_type": "display_data"
    }
   ],
   "source": [
    "plt.figure(figsize=(15,5))\n",
    "colors = sns.color_palette(\"husl\", len(percentage))\n",
    "sns.barplot(data=percentage,palette=colors,edgecolor=\"black\")"
   ]
  },
  {
   "cell_type": "code",
   "execution_count": 11,
   "id": "bc93e704-8d80-46aa-a428-9bb67875bb6e",
   "metadata": {},
   "outputs": [
    {
     "data": {
      "text/plain": [
       "array(['Ahmedabad', 'Aizawl', 'Amaravati', 'Amritsar', 'Bengaluru',\n",
       "       'Bhopal', 'Brajrajnagar', 'Chandigarh', 'Chennai', 'Coimbatore',\n",
       "       'Delhi', 'Ernakulam', 'Gurugram', 'Guwahati', 'Hyderabad',\n",
       "       'Jaipur', 'Jorapokhar', 'Kochi', 'Kolkata', 'Lucknow', 'Mumbai',\n",
       "       'Patna', 'Shillong', 'Talcher', 'Thiruvananthapuram',\n",
       "       'Visakhapatnam'], dtype=object)"
      ]
     },
     "execution_count": 11,
     "metadata": {},
     "output_type": "execute_result"
    }
   ],
   "source": [
    "#checking the unique values in the columns city\n",
    "data['City'].unique()"
   ]
  },
  {
   "cell_type": "code",
   "execution_count": 12,
   "id": "6537bf66-e7cf-4484-a694-99b8eacd63b8",
   "metadata": {},
   "outputs": [
    {
     "data": {
      "text/plain": [
       "26"
      ]
     },
     "execution_count": 12,
     "metadata": {},
     "output_type": "execute_result"
    }
   ],
   "source": [
    "#Total number of  unique cities\n",
    "data.City.nunique()  "
   ]
  },
  {
   "cell_type": "code",
   "execution_count": 13,
   "id": "ba1ecd72-9770-45ab-8413-9f0e21a25ec7",
   "metadata": {},
   "outputs": [
    {
     "data": {
      "text/plain": [
       "City\n",
       "Ahmedabad             2009\n",
       "Delhi                 2009\n",
       "Mumbai                2009\n",
       "Bengaluru             2009\n",
       "Lucknow               2009\n",
       "Chennai               2009\n",
       "Hyderabad             2006\n",
       "Patna                 1858\n",
       "Gurugram              1679\n",
       "Visakhapatnam         1462\n",
       "Amritsar              1221\n",
       "Jorapokhar            1169\n",
       "Jaipur                1114\n",
       "Thiruvananthapuram    1112\n",
       "Amaravati              951\n",
       "Brajrajnagar           938\n",
       "Talcher                925\n",
       "Kolkata                814\n",
       "Guwahati               502\n",
       "Coimbatore             386\n",
       "Shillong               310\n",
       "Chandigarh             304\n",
       "Bhopal                 289\n",
       "Ernakulam              162\n",
       "Kochi                  162\n",
       "Aizawl                 113\n",
       "Name: count, dtype: int64"
      ]
     },
     "execution_count": 13,
     "metadata": {},
     "output_type": "execute_result"
    }
   ],
   "source": [
    "#counts of each cities in the data set\n",
    "data['City'].value_counts()"
   ]
  },
  {
   "cell_type": "code",
   "execution_count": 14,
   "id": "7a9ee39e-c935-492b-b531-770289c5770f",
   "metadata": {},
   "outputs": [
    {
     "data": {
      "text/plain": [
       "array([nan, 'Poor', 'Very Poor', 'Severe', 'Moderate', 'Satisfactory',\n",
       "       'Good'], dtype=object)"
      ]
     },
     "execution_count": 14,
     "metadata": {},
     "output_type": "execute_result"
    }
   ],
   "source": [
    "data['AQI_Bucket'].unique()"
   ]
  },
  {
   "cell_type": "code",
   "execution_count": 15,
   "id": "8cbe9884-0d0d-4e35-ad20-eab1c2690f25",
   "metadata": {},
   "outputs": [
    {
     "data": {
      "text/plain": [
       "AQI_Bucket\n",
       "Moderate        8829\n",
       "Satisfactory    8224\n",
       "Poor            2781\n",
       "Very Poor       2337\n",
       "Good            1341\n",
       "Severe          1338\n",
       "Name: count, dtype: int64"
      ]
     },
     "execution_count": 15,
     "metadata": {},
     "output_type": "execute_result"
    }
   ],
   "source": [
    "data['AQI_Bucket'].value_counts()"
   ]
  },
  {
   "cell_type": "code",
   "execution_count": 16,
   "id": "dbd34b9b-12c1-42c1-a440-1ea8db5022a7",
   "metadata": {},
   "outputs": [
    {
     "data": {
      "text/html": [
       "<div>\n",
       "<style scoped>\n",
       "    .dataframe tbody tr th:only-of-type {\n",
       "        vertical-align: middle;\n",
       "    }\n",
       "\n",
       "    .dataframe tbody tr th {\n",
       "        vertical-align: top;\n",
       "    }\n",
       "\n",
       "    .dataframe thead th {\n",
       "        text-align: right;\n",
       "    }\n",
       "</style>\n",
       "<table border=\"1\" class=\"dataframe\">\n",
       "  <thead>\n",
       "    <tr style=\"text-align: right;\">\n",
       "      <th></th>\n",
       "      <th>count</th>\n",
       "      <th>mean</th>\n",
       "      <th>std</th>\n",
       "      <th>min</th>\n",
       "      <th>25%</th>\n",
       "      <th>50%</th>\n",
       "      <th>75%</th>\n",
       "      <th>max</th>\n",
       "    </tr>\n",
       "  </thead>\n",
       "  <tbody>\n",
       "    <tr>\n",
       "      <th>PM2.5</th>\n",
       "      <td>24933.0</td>\n",
       "      <td>67.450578</td>\n",
       "      <td>64.661449</td>\n",
       "      <td>0.04</td>\n",
       "      <td>28.820</td>\n",
       "      <td>48.57</td>\n",
       "      <td>80.5900</td>\n",
       "      <td>949.99</td>\n",
       "    </tr>\n",
       "    <tr>\n",
       "      <th>PM10</th>\n",
       "      <td>18391.0</td>\n",
       "      <td>118.127103</td>\n",
       "      <td>90.605110</td>\n",
       "      <td>0.01</td>\n",
       "      <td>56.255</td>\n",
       "      <td>95.68</td>\n",
       "      <td>149.7450</td>\n",
       "      <td>1000.00</td>\n",
       "    </tr>\n",
       "    <tr>\n",
       "      <th>NO</th>\n",
       "      <td>25949.0</td>\n",
       "      <td>17.574730</td>\n",
       "      <td>22.785846</td>\n",
       "      <td>0.02</td>\n",
       "      <td>5.630</td>\n",
       "      <td>9.89</td>\n",
       "      <td>19.9500</td>\n",
       "      <td>390.68</td>\n",
       "    </tr>\n",
       "    <tr>\n",
       "      <th>NO2</th>\n",
       "      <td>25946.0</td>\n",
       "      <td>28.560659</td>\n",
       "      <td>24.474746</td>\n",
       "      <td>0.01</td>\n",
       "      <td>11.750</td>\n",
       "      <td>21.69</td>\n",
       "      <td>37.6200</td>\n",
       "      <td>362.21</td>\n",
       "    </tr>\n",
       "    <tr>\n",
       "      <th>NOx</th>\n",
       "      <td>25346.0</td>\n",
       "      <td>32.309123</td>\n",
       "      <td>31.646011</td>\n",
       "      <td>0.00</td>\n",
       "      <td>12.820</td>\n",
       "      <td>23.52</td>\n",
       "      <td>40.1275</td>\n",
       "      <td>467.63</td>\n",
       "    </tr>\n",
       "    <tr>\n",
       "      <th>NH3</th>\n",
       "      <td>19203.0</td>\n",
       "      <td>23.483476</td>\n",
       "      <td>25.684275</td>\n",
       "      <td>0.01</td>\n",
       "      <td>8.580</td>\n",
       "      <td>15.85</td>\n",
       "      <td>30.0200</td>\n",
       "      <td>352.89</td>\n",
       "    </tr>\n",
       "    <tr>\n",
       "      <th>CO</th>\n",
       "      <td>27472.0</td>\n",
       "      <td>2.248598</td>\n",
       "      <td>6.962884</td>\n",
       "      <td>0.00</td>\n",
       "      <td>0.510</td>\n",
       "      <td>0.89</td>\n",
       "      <td>1.4500</td>\n",
       "      <td>175.81</td>\n",
       "    </tr>\n",
       "    <tr>\n",
       "      <th>SO2</th>\n",
       "      <td>25677.0</td>\n",
       "      <td>14.531977</td>\n",
       "      <td>18.133775</td>\n",
       "      <td>0.01</td>\n",
       "      <td>5.670</td>\n",
       "      <td>9.16</td>\n",
       "      <td>15.2200</td>\n",
       "      <td>193.86</td>\n",
       "    </tr>\n",
       "    <tr>\n",
       "      <th>O3</th>\n",
       "      <td>25509.0</td>\n",
       "      <td>34.491430</td>\n",
       "      <td>21.694928</td>\n",
       "      <td>0.01</td>\n",
       "      <td>18.860</td>\n",
       "      <td>30.84</td>\n",
       "      <td>45.5700</td>\n",
       "      <td>257.73</td>\n",
       "    </tr>\n",
       "    <tr>\n",
       "      <th>Benzene</th>\n",
       "      <td>23908.0</td>\n",
       "      <td>3.280840</td>\n",
       "      <td>15.811136</td>\n",
       "      <td>0.00</td>\n",
       "      <td>0.120</td>\n",
       "      <td>1.07</td>\n",
       "      <td>3.0800</td>\n",
       "      <td>455.03</td>\n",
       "    </tr>\n",
       "    <tr>\n",
       "      <th>Toluene</th>\n",
       "      <td>21490.0</td>\n",
       "      <td>8.700972</td>\n",
       "      <td>19.969164</td>\n",
       "      <td>0.00</td>\n",
       "      <td>0.600</td>\n",
       "      <td>2.97</td>\n",
       "      <td>9.1500</td>\n",
       "      <td>454.85</td>\n",
       "    </tr>\n",
       "    <tr>\n",
       "      <th>Xylene</th>\n",
       "      <td>11422.0</td>\n",
       "      <td>3.070128</td>\n",
       "      <td>6.323247</td>\n",
       "      <td>0.00</td>\n",
       "      <td>0.140</td>\n",
       "      <td>0.98</td>\n",
       "      <td>3.3500</td>\n",
       "      <td>170.37</td>\n",
       "    </tr>\n",
       "    <tr>\n",
       "      <th>AQI</th>\n",
       "      <td>24850.0</td>\n",
       "      <td>166.463581</td>\n",
       "      <td>140.696585</td>\n",
       "      <td>13.00</td>\n",
       "      <td>81.000</td>\n",
       "      <td>118.00</td>\n",
       "      <td>208.0000</td>\n",
       "      <td>2049.00</td>\n",
       "    </tr>\n",
       "  </tbody>\n",
       "</table>\n",
       "</div>"
      ],
      "text/plain": [
       "           count        mean         std    min     25%     50%       75%  \\\n",
       "PM2.5    24933.0   67.450578   64.661449   0.04  28.820   48.57   80.5900   \n",
       "PM10     18391.0  118.127103   90.605110   0.01  56.255   95.68  149.7450   \n",
       "NO       25949.0   17.574730   22.785846   0.02   5.630    9.89   19.9500   \n",
       "NO2      25946.0   28.560659   24.474746   0.01  11.750   21.69   37.6200   \n",
       "NOx      25346.0   32.309123   31.646011   0.00  12.820   23.52   40.1275   \n",
       "NH3      19203.0   23.483476   25.684275   0.01   8.580   15.85   30.0200   \n",
       "CO       27472.0    2.248598    6.962884   0.00   0.510    0.89    1.4500   \n",
       "SO2      25677.0   14.531977   18.133775   0.01   5.670    9.16   15.2200   \n",
       "O3       25509.0   34.491430   21.694928   0.01  18.860   30.84   45.5700   \n",
       "Benzene  23908.0    3.280840   15.811136   0.00   0.120    1.07    3.0800   \n",
       "Toluene  21490.0    8.700972   19.969164   0.00   0.600    2.97    9.1500   \n",
       "Xylene   11422.0    3.070128    6.323247   0.00   0.140    0.98    3.3500   \n",
       "AQI      24850.0  166.463581  140.696585  13.00  81.000  118.00  208.0000   \n",
       "\n",
       "             max  \n",
       "PM2.5     949.99  \n",
       "PM10     1000.00  \n",
       "NO        390.68  \n",
       "NO2       362.21  \n",
       "NOx       467.63  \n",
       "NH3       352.89  \n",
       "CO        175.81  \n",
       "SO2       193.86  \n",
       "O3        257.73  \n",
       "Benzene   455.03  \n",
       "Toluene   454.85  \n",
       "Xylene    170.37  \n",
       "AQI      2049.00  "
      ]
     },
     "execution_count": 16,
     "metadata": {},
     "output_type": "execute_result"
    }
   ],
   "source": [
    "##Underastanding the Statistical description of the data set\n",
    "data.describe().T"
   ]
  },
  {
   "cell_type": "code",
   "execution_count": 17,
   "id": "f8e49cd5-1d0d-4c79-8ecc-51079cb3bc7c",
   "metadata": {},
   "outputs": [
    {
     "data": {
      "text/html": [
       "<div>\n",
       "<style scoped>\n",
       "    .dataframe tbody tr th:only-of-type {\n",
       "        vertical-align: middle;\n",
       "    }\n",
       "\n",
       "    .dataframe tbody tr th {\n",
       "        vertical-align: top;\n",
       "    }\n",
       "\n",
       "    .dataframe thead th {\n",
       "        text-align: right;\n",
       "    }\n",
       "</style>\n",
       "<table border=\"1\" class=\"dataframe\">\n",
       "  <thead>\n",
       "    <tr style=\"text-align: right;\">\n",
       "      <th></th>\n",
       "      <th>City</th>\n",
       "      <th>Date</th>\n",
       "      <th>PM2.5</th>\n",
       "      <th>PM10</th>\n",
       "      <th>NO</th>\n",
       "      <th>NO2</th>\n",
       "      <th>NOx</th>\n",
       "      <th>NH3</th>\n",
       "      <th>CO</th>\n",
       "      <th>SO2</th>\n",
       "      <th>O3</th>\n",
       "      <th>Benzene</th>\n",
       "      <th>Toluene</th>\n",
       "      <th>Xylene</th>\n",
       "      <th>AQI</th>\n",
       "      <th>AQI_Bucket</th>\n",
       "    </tr>\n",
       "  </thead>\n",
       "  <tbody>\n",
       "    <tr>\n",
       "      <th>0</th>\n",
       "      <td>Ahmedabad</td>\n",
       "      <td>2015-01-01</td>\n",
       "      <td>NaN</td>\n",
       "      <td>NaN</td>\n",
       "      <td>0.92</td>\n",
       "      <td>18.22</td>\n",
       "      <td>17.15</td>\n",
       "      <td>NaN</td>\n",
       "      <td>0.92</td>\n",
       "      <td>27.64</td>\n",
       "      <td>133.36</td>\n",
       "      <td>0.00</td>\n",
       "      <td>0.02</td>\n",
       "      <td>0.00</td>\n",
       "      <td>NaN</td>\n",
       "      <td>NaN</td>\n",
       "    </tr>\n",
       "    <tr>\n",
       "      <th>1</th>\n",
       "      <td>Ahmedabad</td>\n",
       "      <td>2015-01-02</td>\n",
       "      <td>NaN</td>\n",
       "      <td>NaN</td>\n",
       "      <td>0.97</td>\n",
       "      <td>15.69</td>\n",
       "      <td>16.46</td>\n",
       "      <td>NaN</td>\n",
       "      <td>0.97</td>\n",
       "      <td>24.55</td>\n",
       "      <td>34.06</td>\n",
       "      <td>3.68</td>\n",
       "      <td>5.50</td>\n",
       "      <td>3.77</td>\n",
       "      <td>NaN</td>\n",
       "      <td>NaN</td>\n",
       "    </tr>\n",
       "    <tr>\n",
       "      <th>2</th>\n",
       "      <td>Ahmedabad</td>\n",
       "      <td>2015-01-03</td>\n",
       "      <td>NaN</td>\n",
       "      <td>NaN</td>\n",
       "      <td>17.40</td>\n",
       "      <td>19.30</td>\n",
       "      <td>29.70</td>\n",
       "      <td>NaN</td>\n",
       "      <td>17.40</td>\n",
       "      <td>29.07</td>\n",
       "      <td>30.70</td>\n",
       "      <td>6.80</td>\n",
       "      <td>16.40</td>\n",
       "      <td>2.25</td>\n",
       "      <td>NaN</td>\n",
       "      <td>NaN</td>\n",
       "    </tr>\n",
       "    <tr>\n",
       "      <th>3</th>\n",
       "      <td>Ahmedabad</td>\n",
       "      <td>2015-01-04</td>\n",
       "      <td>NaN</td>\n",
       "      <td>NaN</td>\n",
       "      <td>1.70</td>\n",
       "      <td>18.48</td>\n",
       "      <td>17.97</td>\n",
       "      <td>NaN</td>\n",
       "      <td>1.70</td>\n",
       "      <td>18.59</td>\n",
       "      <td>36.08</td>\n",
       "      <td>4.43</td>\n",
       "      <td>10.14</td>\n",
       "      <td>1.00</td>\n",
       "      <td>NaN</td>\n",
       "      <td>NaN</td>\n",
       "    </tr>\n",
       "    <tr>\n",
       "      <th>4</th>\n",
       "      <td>Ahmedabad</td>\n",
       "      <td>2015-01-05</td>\n",
       "      <td>NaN</td>\n",
       "      <td>NaN</td>\n",
       "      <td>22.10</td>\n",
       "      <td>21.42</td>\n",
       "      <td>37.76</td>\n",
       "      <td>NaN</td>\n",
       "      <td>22.10</td>\n",
       "      <td>39.33</td>\n",
       "      <td>39.31</td>\n",
       "      <td>7.01</td>\n",
       "      <td>18.89</td>\n",
       "      <td>2.78</td>\n",
       "      <td>NaN</td>\n",
       "      <td>NaN</td>\n",
       "    </tr>\n",
       "    <tr>\n",
       "      <th>...</th>\n",
       "      <td>...</td>\n",
       "      <td>...</td>\n",
       "      <td>...</td>\n",
       "      <td>...</td>\n",
       "      <td>...</td>\n",
       "      <td>...</td>\n",
       "      <td>...</td>\n",
       "      <td>...</td>\n",
       "      <td>...</td>\n",
       "      <td>...</td>\n",
       "      <td>...</td>\n",
       "      <td>...</td>\n",
       "      <td>...</td>\n",
       "      <td>...</td>\n",
       "      <td>...</td>\n",
       "      <td>...</td>\n",
       "    </tr>\n",
       "    <tr>\n",
       "      <th>29374</th>\n",
       "      <td>Visakhapatnam</td>\n",
       "      <td>2020-01-27</td>\n",
       "      <td>59.32</td>\n",
       "      <td>117.45</td>\n",
       "      <td>3.11</td>\n",
       "      <td>19.17</td>\n",
       "      <td>12.72</td>\n",
       "      <td>11.62</td>\n",
       "      <td>0.92</td>\n",
       "      <td>8.35</td>\n",
       "      <td>29.25</td>\n",
       "      <td>3.13</td>\n",
       "      <td>7.13</td>\n",
       "      <td>1.00</td>\n",
       "      <td>NaN</td>\n",
       "      <td>NaN</td>\n",
       "    </tr>\n",
       "    <tr>\n",
       "      <th>29400</th>\n",
       "      <td>Visakhapatnam</td>\n",
       "      <td>2020-02-22</td>\n",
       "      <td>31.82</td>\n",
       "      <td>70.91</td>\n",
       "      <td>2.34</td>\n",
       "      <td>23.92</td>\n",
       "      <td>14.56</td>\n",
       "      <td>12.41</td>\n",
       "      <td>0.58</td>\n",
       "      <td>7.58</td>\n",
       "      <td>26.08</td>\n",
       "      <td>2.59</td>\n",
       "      <td>5.82</td>\n",
       "      <td>1.15</td>\n",
       "      <td>NaN</td>\n",
       "      <td>NaN</td>\n",
       "    </tr>\n",
       "    <tr>\n",
       "      <th>29409</th>\n",
       "      <td>Visakhapatnam</td>\n",
       "      <td>2020-03-02</td>\n",
       "      <td>52.80</td>\n",
       "      <td>104.45</td>\n",
       "      <td>3.24</td>\n",
       "      <td>43.27</td>\n",
       "      <td>24.56</td>\n",
       "      <td>17.49</td>\n",
       "      <td>1.24</td>\n",
       "      <td>9.08</td>\n",
       "      <td>17.61</td>\n",
       "      <td>4.44</td>\n",
       "      <td>9.25</td>\n",
       "      <td>2.75</td>\n",
       "      <td>NaN</td>\n",
       "      <td>NaN</td>\n",
       "    </tr>\n",
       "    <tr>\n",
       "      <th>29463</th>\n",
       "      <td>Visakhapatnam</td>\n",
       "      <td>2020-04-25</td>\n",
       "      <td>NaN</td>\n",
       "      <td>NaN</td>\n",
       "      <td>NaN</td>\n",
       "      <td>NaN</td>\n",
       "      <td>NaN</td>\n",
       "      <td>NaN</td>\n",
       "      <td>NaN</td>\n",
       "      <td>NaN</td>\n",
       "      <td>NaN</td>\n",
       "      <td>NaN</td>\n",
       "      <td>NaN</td>\n",
       "      <td>NaN</td>\n",
       "      <td>NaN</td>\n",
       "      <td>NaN</td>\n",
       "    </tr>\n",
       "    <tr>\n",
       "      <th>29464</th>\n",
       "      <td>Visakhapatnam</td>\n",
       "      <td>2020-04-26</td>\n",
       "      <td>11.07</td>\n",
       "      <td>31.30</td>\n",
       "      <td>4.65</td>\n",
       "      <td>19.97</td>\n",
       "      <td>13.07</td>\n",
       "      <td>7.88</td>\n",
       "      <td>0.11</td>\n",
       "      <td>5.25</td>\n",
       "      <td>11.12</td>\n",
       "      <td>1.51</td>\n",
       "      <td>5.29</td>\n",
       "      <td>1.53</td>\n",
       "      <td>NaN</td>\n",
       "      <td>NaN</td>\n",
       "    </tr>\n",
       "  </tbody>\n",
       "</table>\n",
       "<p>4681 rows × 16 columns</p>\n",
       "</div>"
      ],
      "text/plain": [
       "                City        Date  PM2.5    PM10     NO    NO2    NOx    NH3  \\\n",
       "0          Ahmedabad  2015-01-01    NaN     NaN   0.92  18.22  17.15    NaN   \n",
       "1          Ahmedabad  2015-01-02    NaN     NaN   0.97  15.69  16.46    NaN   \n",
       "2          Ahmedabad  2015-01-03    NaN     NaN  17.40  19.30  29.70    NaN   \n",
       "3          Ahmedabad  2015-01-04    NaN     NaN   1.70  18.48  17.97    NaN   \n",
       "4          Ahmedabad  2015-01-05    NaN     NaN  22.10  21.42  37.76    NaN   \n",
       "...              ...         ...    ...     ...    ...    ...    ...    ...   \n",
       "29374  Visakhapatnam  2020-01-27  59.32  117.45   3.11  19.17  12.72  11.62   \n",
       "29400  Visakhapatnam  2020-02-22  31.82   70.91   2.34  23.92  14.56  12.41   \n",
       "29409  Visakhapatnam  2020-03-02  52.80  104.45   3.24  43.27  24.56  17.49   \n",
       "29463  Visakhapatnam  2020-04-25    NaN     NaN    NaN    NaN    NaN    NaN   \n",
       "29464  Visakhapatnam  2020-04-26  11.07   31.30   4.65  19.97  13.07   7.88   \n",
       "\n",
       "          CO    SO2      O3  Benzene  Toluene  Xylene  AQI AQI_Bucket  \n",
       "0       0.92  27.64  133.36     0.00     0.02    0.00  NaN        NaN  \n",
       "1       0.97  24.55   34.06     3.68     5.50    3.77  NaN        NaN  \n",
       "2      17.40  29.07   30.70     6.80    16.40    2.25  NaN        NaN  \n",
       "3       1.70  18.59   36.08     4.43    10.14    1.00  NaN        NaN  \n",
       "4      22.10  39.33   39.31     7.01    18.89    2.78  NaN        NaN  \n",
       "...      ...    ...     ...      ...      ...     ...  ...        ...  \n",
       "29374   0.92   8.35   29.25     3.13     7.13    1.00  NaN        NaN  \n",
       "29400   0.58   7.58   26.08     2.59     5.82    1.15  NaN        NaN  \n",
       "29409   1.24   9.08   17.61     4.44     9.25    2.75  NaN        NaN  \n",
       "29463    NaN    NaN     NaN      NaN      NaN     NaN  NaN        NaN  \n",
       "29464   0.11   5.25   11.12     1.51     5.29    1.53  NaN        NaN  \n",
       "\n",
       "[4681 rows x 16 columns]"
      ]
     },
     "execution_count": 17,
     "metadata": {},
     "output_type": "execute_result"
    }
   ],
   "source": [
    "\n",
    "data[data['AQI'].isna()]"
   ]
  },
  {
   "cell_type": "code",
   "execution_count": 18,
   "id": "3656b1ab-f9a5-4ffd-8476-10ca8545a011",
   "metadata": {},
   "outputs": [],
   "source": [
    "#dropping the rows that has null values in \"AQI\" column\n",
    "#data=data.dropna(subset=['AQI'])"
   ]
  },
  {
   "cell_type": "code",
   "execution_count": 19,
   "id": "b39e2bfe-6494-4207-8556-4512da705db7",
   "metadata": {},
   "outputs": [],
   "source": [
    "#data.shape"
   ]
  },
  {
   "cell_type": "code",
   "execution_count": 20,
   "id": "7bc376f6-72a4-4f9d-85fb-532cf7e0885c",
   "metadata": {},
   "outputs": [
    {
     "data": {
      "text/plain": [
       "0"
      ]
     },
     "execution_count": 20,
     "metadata": {},
     "output_type": "execute_result"
    }
   ],
   "source": [
    "#Checking whether is there any duplicate rows exist or not\n",
    "data.duplicated().sum()"
   ]
  },
  {
   "cell_type": "code",
   "execution_count": 21,
   "id": "a1d95b9f-9624-4f48-8d80-a9e5762ddf9d",
   "metadata": {},
   "outputs": [
    {
     "data": {
      "text/plain": [
       "26"
      ]
     },
     "execution_count": 21,
     "metadata": {},
     "output_type": "execute_result"
    }
   ],
   "source": [
    "data.City.nunique()"
   ]
  },
  {
   "cell_type": "code",
   "execution_count": 22,
   "id": "aa93aad7-553d-4444-956f-344d21c4ea3d",
   "metadata": {},
   "outputs": [],
   "source": [
    "data['Date'] = pd.to_datetime(data['Date'])\n",
    "\n",
    "# Get the minimum and maximum dates\n",
    "min_date = data['Date'].min()\n",
    "max_date = data['Date'].max()"
   ]
  },
  {
   "cell_type": "code",
   "execution_count": 23,
   "id": "86b80070-3038-4a62-bb84-d922d578a1c3",
   "metadata": {},
   "outputs": [
    {
     "name": "stdout",
     "output_type": "stream",
     "text": [
      "Min_year 2015-01-01 00:00:00 and Max_year 2020-07-01 00:00:00\n"
     ]
    }
   ],
   "source": [
    "print(f\"Min_year {min_date} and Max_year {max_date}\")"
   ]
  },
  {
   "cell_type": "code",
   "execution_count": 24,
   "id": "fd4d7986-2f8e-4be3-88e9-cbb54236d9ac",
   "metadata": {},
   "outputs": [
    {
     "data": {
      "text/plain": [
       "Timestamp('2020-07-01 00:00:00')"
      ]
     },
     "execution_count": 24,
     "metadata": {},
     "output_type": "execute_result"
    }
   ],
   "source": [
    "max_date"
   ]
  },
  {
   "cell_type": "code",
   "execution_count": 25,
   "id": "94c3b81b-991c-4852-a440-e2305c9c68af",
   "metadata": {},
   "outputs": [
    {
     "data": {
      "text/html": [
       "<div>\n",
       "<style scoped>\n",
       "    .dataframe tbody tr th:only-of-type {\n",
       "        vertical-align: middle;\n",
       "    }\n",
       "\n",
       "    .dataframe tbody tr th {\n",
       "        vertical-align: top;\n",
       "    }\n",
       "\n",
       "    .dataframe thead th {\n",
       "        text-align: right;\n",
       "    }\n",
       "</style>\n",
       "<table border=\"1\" class=\"dataframe\">\n",
       "  <thead>\n",
       "    <tr style=\"text-align: right;\">\n",
       "      <th></th>\n",
       "      <th>City</th>\n",
       "      <th>Date</th>\n",
       "      <th>PM2.5</th>\n",
       "      <th>PM10</th>\n",
       "      <th>NO</th>\n",
       "      <th>NO2</th>\n",
       "      <th>NOx</th>\n",
       "      <th>NH3</th>\n",
       "      <th>CO</th>\n",
       "      <th>SO2</th>\n",
       "      <th>O3</th>\n",
       "      <th>Benzene</th>\n",
       "      <th>Toluene</th>\n",
       "      <th>Xylene</th>\n",
       "      <th>AQI</th>\n",
       "      <th>AQI_Bucket</th>\n",
       "    </tr>\n",
       "  </thead>\n",
       "  <tbody>\n",
       "    <tr>\n",
       "      <th>2974</th>\n",
       "      <td>Amaravati</td>\n",
       "      <td>2020-03-25</td>\n",
       "      <td>16.77</td>\n",
       "      <td>35.65</td>\n",
       "      <td>1.38</td>\n",
       "      <td>4.29</td>\n",
       "      <td>3.41</td>\n",
       "      <td>7.58</td>\n",
       "      <td>1.47</td>\n",
       "      <td>18.95</td>\n",
       "      <td>27.74</td>\n",
       "      <td>0.07</td>\n",
       "      <td>0.33</td>\n",
       "      <td>0.1</td>\n",
       "      <td>101.0</td>\n",
       "      <td>Moderate</td>\n",
       "    </tr>\n",
       "  </tbody>\n",
       "</table>\n",
       "</div>"
      ],
      "text/plain": [
       "           City       Date  PM2.5   PM10    NO   NO2   NOx   NH3    CO    SO2  \\\n",
       "2974  Amaravati 2020-03-25  16.77  35.65  1.38  4.29  3.41  7.58  1.47  18.95   \n",
       "\n",
       "         O3  Benzene  Toluene  Xylene    AQI AQI_Bucket  \n",
       "2974  27.74     0.07     0.33     0.1  101.0   Moderate  "
      ]
     },
     "execution_count": 25,
     "metadata": {},
     "output_type": "execute_result"
    }
   ],
   "source": [
    "data.sample()"
   ]
  },
  {
   "cell_type": "code",
   "execution_count": 26,
   "id": "5c362bc0-268c-4ab7-ac80-ba689ef32f32",
   "metadata": {},
   "outputs": [],
   "source": [
    "def check_missing_years(df, city_column, date_column, start_year, end_year):\n",
    "    # Ensure the date column is in datetime format\n",
    "    df[date_column] = pd.to_datetime(df[date_column])\n",
    "    \n",
    "    # Extract the year from the date column\n",
    "    df['year'] = df[date_column].dt.year\n",
    "    \n",
    "    # Create a set of all years in the given range\n",
    "    all_years = set(range(start_year, end_year + 1))\n",
    "    \n",
    "    # Group by city and check for missing years\n",
    "    missing_years = {}\n",
    "    for city, group in df.groupby(city_column):\n",
    "        years_present = set(group['year'])\n",
    "        missing = all_years - years_present\n",
    "        if missing:\n",
    "            missing_years[city] = missing\n",
    "    \n",
    "    return missing_years"
   ]
  },
  {
   "cell_type": "code",
   "execution_count": 27,
   "id": "a2638f69-606e-4575-9984-0b90636e0d36",
   "metadata": {},
   "outputs": [
    {
     "data": {
      "text/plain": [
       "{'Aizawl': {2015, 2016, 2017, 2018, 2019},\n",
       " 'Amaravati': {2015, 2016},\n",
       " 'Amritsar': {2015, 2016},\n",
       " 'Bhopal': {2015, 2016, 2017, 2018},\n",
       " 'Brajrajnagar': {2015, 2016},\n",
       " 'Chandigarh': {2015, 2016, 2017, 2018},\n",
       " 'Coimbatore': {2015, 2016, 2017, 2018},\n",
       " 'Ernakulam': {2015, 2016, 2017, 2018, 2019},\n",
       " 'Guwahati': {2015, 2016, 2017, 2018},\n",
       " 'Jaipur': {2015, 2016},\n",
       " 'Jorapokhar': {2015, 2016},\n",
       " 'Kochi': {2015, 2016, 2017, 2018, 2019},\n",
       " 'Kolkata': {2015, 2016, 2017},\n",
       " 'Shillong': {2015, 2016, 2017, 2018},\n",
       " 'Talcher': {2015, 2016},\n",
       " 'Thiruvananthapuram': {2015, 2016},\n",
       " 'Visakhapatnam': {2015}}"
      ]
     },
     "execution_count": 27,
     "metadata": {},
     "output_type": "execute_result"
    }
   ],
   "source": [
    "missing=check_missing_years(data,'City','Date',2015,2020)\n",
    "missing"
   ]
  },
  {
   "cell_type": "code",
   "execution_count": 29,
   "id": "f5cb0463-0a73-416e-96c5-9fc7d2423155",
   "metadata": {},
   "outputs": [
    {
     "data": {
      "text/html": [
       "<div>\n",
       "<style scoped>\n",
       "    .dataframe tbody tr th:only-of-type {\n",
       "        vertical-align: middle;\n",
       "    }\n",
       "\n",
       "    .dataframe tbody tr th {\n",
       "        vertical-align: top;\n",
       "    }\n",
       "\n",
       "    .dataframe thead th {\n",
       "        text-align: right;\n",
       "    }\n",
       "</style>\n",
       "<table border=\"1\" class=\"dataframe\">\n",
       "  <thead>\n",
       "    <tr style=\"text-align: right;\">\n",
       "      <th></th>\n",
       "      <th>City</th>\n",
       "      <th>Date</th>\n",
       "      <th>PM2.5</th>\n",
       "      <th>PM10</th>\n",
       "      <th>NO</th>\n",
       "      <th>NO2</th>\n",
       "      <th>NOx</th>\n",
       "      <th>NH3</th>\n",
       "      <th>CO</th>\n",
       "      <th>SO2</th>\n",
       "      <th>O3</th>\n",
       "      <th>Benzene</th>\n",
       "      <th>Toluene</th>\n",
       "      <th>Xylene</th>\n",
       "      <th>AQI</th>\n",
       "      <th>AQI_Bucket</th>\n",
       "      <th>year</th>\n",
       "    </tr>\n",
       "  </thead>\n",
       "  <tbody>\n",
       "    <tr>\n",
       "      <th>13969</th>\n",
       "      <td>Gurugram</td>\n",
       "      <td>2020-03-14</td>\n",
       "      <td>43.92</td>\n",
       "      <td>99.84</td>\n",
       "      <td>6.43</td>\n",
       "      <td>25.9</td>\n",
       "      <td>18.59</td>\n",
       "      <td>31.5</td>\n",
       "      <td>0.82</td>\n",
       "      <td>14.36</td>\n",
       "      <td>38.98</td>\n",
       "      <td>2.3</td>\n",
       "      <td>3.81</td>\n",
       "      <td>5.5</td>\n",
       "      <td>118.0</td>\n",
       "      <td>Moderate</td>\n",
       "      <td>2020</td>\n",
       "    </tr>\n",
       "  </tbody>\n",
       "</table>\n",
       "</div>"
      ],
      "text/plain": [
       "           City       Date  PM2.5   PM10    NO   NO2    NOx   NH3    CO  \\\n",
       "13969  Gurugram 2020-03-14  43.92  99.84  6.43  25.9  18.59  31.5  0.82   \n",
       "\n",
       "         SO2     O3  Benzene  Toluene  Xylene    AQI AQI_Bucket  year  \n",
       "13969  14.36  38.98      2.3     3.81     5.5  118.0   Moderate  2020  "
      ]
     },
     "execution_count": 29,
     "metadata": {},
     "output_type": "execute_result"
    }
   ],
   "source": [
    "data.sample()"
   ]
  },
  {
   "cell_type": "code",
   "execution_count": null,
   "id": "e1256033-72e4-4a25-8557-a1e60d9bd5e2",
   "metadata": {},
   "outputs": [],
   "source": []
  }
 ],
 "metadata": {
  "kernelspec": {
   "display_name": "Python 3 (ipykernel)",
   "language": "python",
   "name": "python3"
  },
  "language_info": {
   "codemirror_mode": {
    "name": "ipython",
    "version": 3
   },
   "file_extension": ".py",
   "mimetype": "text/x-python",
   "name": "python",
   "nbconvert_exporter": "python",
   "pygments_lexer": "ipython3",
   "version": "3.12.7"
  }
 },
 "nbformat": 4,
 "nbformat_minor": 5
}
